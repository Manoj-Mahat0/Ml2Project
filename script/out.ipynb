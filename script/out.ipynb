{
 "cells": [
  {
   "cell_type": "code",
   "execution_count": null,
   "id": "88b55fc6",
   "metadata": {},
   "outputs": [],
   "source": [
    "# Import necessary libraries\n",
    "import pandas as pd\n",
    "import numpy as np\n",
    "import matplotlib.pyplot as plt\n",
    "import seaborn as sns\n",
    "from sklearn.model_selection import train_test_split\n",
    "from sklearn.tree import DecisionTreeClassifier\n",
    "from sklearn.metrics import classification_report, confusion_matrix\n",
    "from sklearn.preprocessing import StandardScaler"
   ]
  },
  {
   "cell_type": "code",
   "execution_count": null,
   "id": "a3435bf4",
   "metadata": {},
   "outputs": [],
   "source": [
    "# Set file paths and constants\n",
    "DATASET_PATH = 'path/to/your/dataset.csv'\n",
    "TARGET_VARIABLE = 'Y'  # Target variable name\n",
    "FEATURES = ['X1', 'X2', 'X3', 'X4', 'X5', 'X6', 'X7', 'X8', 'X9', 'X10',\n",
    "            'X11', 'X12', 'X13', 'X14', 'X15', 'X16', 'X17', 'X18', 'X19',\n",
    "            'X20', 'X21', 'X22', 'X23']"
   ]
  },
  {
   "cell_type": "code",
   "execution_count": null,
   "id": "57ca025f",
   "metadata": {},
   "outputs": [],
   "source": [
    "# Load the dataset\n",
    "data = pd.read_csv(DATASET_PATH)"
   ]
  },
  {
   "cell_type": "code",
   "execution_count": null,
   "id": "5fb7ffc2",
   "metadata": {},
   "outputs": [],
   "source": [
    "# Display the first few rows of the dataset\n",
    "data.head()"
   ]
  },
  {
   "cell_type": "code",
   "execution_count": null,
   "id": "2257ba65",
   "metadata": {},
   "outputs": [],
   "source": [
    "# Data Description\n",
    "print(f\"Dataset contains {data.shape[0]} instances and {data.shape[1]} features.\")\n",
    "print(f\"Features: {data.columns.tolist()}\")\n",
    "print(f\"Missing values: \\n{data.isnull().sum()}\")"
   ]
  },
  {
   "cell_type": "code",
   "execution_count": null,
   "id": "cd218a2d",
   "metadata": {},
   "outputs": [],
   "source": [
    "# Data Cleaning\n",
    "# Check for duplicates and drop if any\n",
    "data.drop_duplicates(inplace=True)\n",
    "\n",
    "# Describe the dataset\n",
    "data.describe()"
   ]
  },
  {
   "cell_type": "code",
   "execution_count": null,
   "id": "a66a58de",
   "metadata": {},
   "outputs": [],
   "source": [
    "# Exploratory Data Analysis (EDA)\n",
    "# Visualize the distribution of the target variable\n",
    "sns.countplot(x=TARGET_VARIABLE, data=data)\n",
    "plt.title('Distribution of Default Payments')\n",
    "plt.show()"
   ]
  },
  {
   "cell_type": "code",
   "execution_count": null,
   "id": "f2772845",
   "metadata": {},
   "outputs": [],
   "source": [
    "# Visualize correlations using a heatmap\n",
    "plt.figure(figsize=(12, 8))\n",
    "correlation_matrix = data.corr()\n",
    "sns.heatmap(correlation_matrix, annot=True, fmt='.2f', cmap='coolwarm')\n",
    "plt.title('Correlation Matrix')\n",
    "plt.show()"
   ]
  },
  {
   "cell_type": "code",
   "execution_count": null,
   "id": "009d1088",
   "metadata": {},
   "outputs": [],
   "source": [
    "# Prepare the data for modeling\n",
    "X = data[FEATURES]\n",
    "y = data[TARGET_VARIABLE]\n",
    "\n",
    "# Split the dataset into training and testing sets\n",
    "X_train, X_test, y_train, y_test = train_test_split(X, y, test_size=0.3, random_state=42)"
   ]
  },
  {
   "cell_type": "code",
   "execution_count": null,
   "id": "64b89593",
   "metadata": {},
   "outputs": [],
   "source": [
    "# Feature scaling\n",
    "scaler = StandardScaler()\n",
    "X_train_scaled = scaler.fit_transform(X_train)\n",
    "X_test_scaled = scaler.transform(X_test)"
   ]
  },
  {
   "cell_type": "code",
   "execution_count": null,
   "id": "54807c6f",
   "metadata": {},
   "outputs": [],
   "source": [
    "# Fit the Decision Tree model\n",
    "model = DecisionTreeClassifier(random_state=42)\n",
    "model.fit(X_train_scaled, y_train)"
   ]
  },
  {
   "cell_type": "code",
   "execution_count": null,
   "id": "05511af7",
   "metadata": {},
   "outputs": [],
   "source": [
    "# Make predictions\n",
    "y_pred = model.predict(X_test_scaled)"
   ]
  },
  {
   "cell_type": "code",
   "execution_count": null,
   "id": "ddbeffb4",
   "metadata": {},
   "outputs": [],
   "source": [
    "# Results and Analysis\n",
    "# Classification report\n",
    "print(classification_report(y_test, y_pred))\n",
    "\n",
    "# Confusion Matrix\n",
    "conf_matrix = confusion_matrix(y_test, y_pred)\n",
    "sns.heatmap(conf_matrix, annot=True, fmt='d', cmap='Blues')\n",
    "plt.title('Confusion Matrix')\n",
    "plt.xlabel('Predicted')\n",
    "plt.ylabel('Actual')\n",
    "plt.show()"
   ]
  },
  {
   "cell_type": "code",
   "execution_count": null,
   "id": "7bcfe9e2",
   "metadata": {},
   "outputs": [],
   "source": [
    "# Discussion and Conclusion\n",
    "print(\"The Decision Tree model has been fitted to the data. The classification report indicates the model's precision, recall, and F1-score.\")\n",
    "print(\"The confusion matrix visualizes the model's performance on the test set.\")\n",
    "print(\"Considerations for future work include exploring hyperparameter tuning and testing other algorithms for comparison.\")"
   ]
  },
  {
   "cell_type": "code",
   "execution_count": null,
   "id": "7ec75776",
   "metadata": {},
   "outputs": [],
   "source": [
    "# Save the model if needed (optional)\n",
    "import joblib\n",
    "joblib.dump(model, 'decision_tree_model.pkl')"
   ]
  }
 ],
 "metadata": {
  "kernelspec": {
   "display_name": "Python 3 (ipykernel)",
   "language": "python",
   "name": "python3"
  },
  "language_info": {
   "codemirror_mode": {
    "name": "ipython",
    "version": 3
   },
   "file_extension": ".py",
   "mimetype": "text/x-python",
   "name": "python",
   "nbconvert_exporter": "python",
   "pygments_lexer": "ipython3",
   "version": "3.8.10"
  }
 },
 "nbformat": 4,
 "nbformat_minor": 5
}
